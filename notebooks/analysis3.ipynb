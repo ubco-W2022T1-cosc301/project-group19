{
 "cells": [
  {
   "cell_type": "markdown",
   "metadata": {},
   "source": [
    "# Julia Petrie"
   ]
  },
  {
   "cell_type": "markdown",
   "metadata": {},
   "source": [
    "## Research question/interests\n",
    "\n",
    "I am interested in understanding how the change in modern-day technology has affected high school graduation rates. Additionally, I am interested in the data surrounding cohorts as throughout my high school career I heard the term frequently but never fully understood the meaning or reason behind it. I am intrigued by the effect the curriculum can have on graduation rates."
   ]
  },
  {
   "cell_type": "markdown",
   "metadata": {},
   "source": [
    "# Task 1 - EDA"
   ]
  },
  {
   "cell_type": "code",
   "execution_count": 49,
   "metadata": {},
   "outputs": [],
   "source": [
    "#Import Libraries\n",
    "import numpy as np\n",
    "import pandas as pd\n",
    "import matplotlib.pylab as plt\n",
    "import seaborn as sns#Understanding my variables\n",
    "import matplotlib.pyplot as plt\n",
    "#index of all column titles"
   ]
  },
  {
   "cell_type": "markdown",
   "metadata": {},
   "source": [
    "### This is our raw dataset:"
   ]
  },
  {
   "cell_type": "code",
   "execution_count": 50,
   "metadata": {},
   "outputs": [
    {
     "data": {
      "text/html": [
       "<div>\n",
       "<style scoped>\n",
       "    .dataframe tbody tr th:only-of-type {\n",
       "        vertical-align: middle;\n",
       "    }\n",
       "\n",
       "    .dataframe tbody tr th {\n",
       "        vertical-align: top;\n",
       "    }\n",
       "\n",
       "    .dataframe thead th {\n",
       "        text-align: right;\n",
       "    }\n",
       "</style>\n",
       "<table border=\"1\" class=\"dataframe\">\n",
       "  <thead>\n",
       "    <tr style=\"text-align: right;\">\n",
       "      <th></th>\n",
       "      <th>YEAR_6_OF_COHORT</th>\n",
       "      <th>DATA_LEVEL</th>\n",
       "      <th>SUB_POPULATION</th>\n",
       "      <th>PUBLIC_OR_INDEPENDENT</th>\n",
       "      <th>DISTRICT_NUMBER</th>\n",
       "      <th>DISTRICT_NAME</th>\n",
       "      <th>FACILITY_TYPE</th>\n",
       "      <th>COMPLETION_RATE_MODEL</th>\n",
       "      <th>MODEL_TYPE</th>\n",
       "      <th>COHORT_COUNT</th>\n",
       "      <th>SUCCESS_COUNT</th>\n",
       "      <th>ESTIMATED_OUTMIGRANTS</th>\n",
       "      <th>ESTIMATED_COMPLETION_RATE</th>\n",
       "    </tr>\n",
       "  </thead>\n",
       "  <tbody>\n",
       "    <tr>\n",
       "      <th>0</th>\n",
       "      <td>1997/1998</td>\n",
       "      <td>PROVINCE LEVEL</td>\n",
       "      <td>ALL STUDENTS</td>\n",
       "      <td>PROVINCE-TOTAL</td>\n",
       "      <td>NaN</td>\n",
       "      <td>NaN</td>\n",
       "      <td>ALL FACILITY TYPES</td>\n",
       "      <td>GRAD_7_YEAR EXTENDED_MODEL</td>\n",
       "      <td>DYNAMIC MODEL</td>\n",
       "      <td>50298</td>\n",
       "      <td>34014</td>\n",
       "      <td>5157.609</td>\n",
       "      <td>75.352</td>\n",
       "    </tr>\n",
       "    <tr>\n",
       "      <th>1</th>\n",
       "      <td>1997/1998</td>\n",
       "      <td>PROVINCE LEVEL</td>\n",
       "      <td>INDIGENOUS</td>\n",
       "      <td>PROVINCE-TOTAL</td>\n",
       "      <td>NaN</td>\n",
       "      <td>NaN</td>\n",
       "      <td>ALL FACILITY TYPES</td>\n",
       "      <td>GRAD_7_YEAR EXTENDED_MODEL</td>\n",
       "      <td>DYNAMIC MODEL</td>\n",
       "      <td>3725</td>\n",
       "      <td>1284</td>\n",
       "      <td>451.518</td>\n",
       "      <td>39.224</td>\n",
       "    </tr>\n",
       "    <tr>\n",
       "      <th>2</th>\n",
       "      <td>1997/1998</td>\n",
       "      <td>PROVINCE LEVEL</td>\n",
       "      <td>NON INDIGENOUS</td>\n",
       "      <td>PROVINCE-TOTAL</td>\n",
       "      <td>NaN</td>\n",
       "      <td>NaN</td>\n",
       "      <td>ALL FACILITY TYPES</td>\n",
       "      <td>GRAD_7_YEAR EXTENDED_MODEL</td>\n",
       "      <td>DYNAMIC MODEL</td>\n",
       "      <td>46573</td>\n",
       "      <td>32730</td>\n",
       "      <td>4706.091</td>\n",
       "      <td>78.176</td>\n",
       "    </tr>\n",
       "    <tr>\n",
       "      <th>3</th>\n",
       "      <td>1997/1998</td>\n",
       "      <td>PROVINCE LEVEL</td>\n",
       "      <td>SPECIAL NEEDS</td>\n",
       "      <td>PROVINCE-TOTAL</td>\n",
       "      <td>NaN</td>\n",
       "      <td>NaN</td>\n",
       "      <td>ALL FACILITY TYPES</td>\n",
       "      <td>GRAD_7_YEAR EXTENDED_MODEL</td>\n",
       "      <td>DYNAMIC MODEL</td>\n",
       "      <td>915</td>\n",
       "      <td>210</td>\n",
       "      <td>111.229</td>\n",
       "      <td>26.127</td>\n",
       "    </tr>\n",
       "    <tr>\n",
       "      <th>4</th>\n",
       "      <td>1997/1998</td>\n",
       "      <td>PROVINCE LEVEL</td>\n",
       "      <td>NON SPECIAL NEEDS</td>\n",
       "      <td>PROVINCE-TOTAL</td>\n",
       "      <td>NaN</td>\n",
       "      <td>NaN</td>\n",
       "      <td>ALL FACILITY TYPES</td>\n",
       "      <td>GRAD_7_YEAR EXTENDED_MODEL</td>\n",
       "      <td>DYNAMIC MODEL</td>\n",
       "      <td>49383</td>\n",
       "      <td>33804</td>\n",
       "      <td>5046.381</td>\n",
       "      <td>76.244</td>\n",
       "    </tr>\n",
       "    <tr>\n",
       "      <th>...</th>\n",
       "      <td>...</td>\n",
       "      <td>...</td>\n",
       "      <td>...</td>\n",
       "      <td>...</td>\n",
       "      <td>...</td>\n",
       "      <td>...</td>\n",
       "      <td>...</td>\n",
       "      <td>...</td>\n",
       "      <td>...</td>\n",
       "      <td>...</td>\n",
       "      <td>...</td>\n",
       "      <td>...</td>\n",
       "      <td>...</td>\n",
       "    </tr>\n",
       "    <tr>\n",
       "      <th>55591</th>\n",
       "      <td>2020/2021</td>\n",
       "      <td>DISTRICT LEVEL</td>\n",
       "      <td>ALL STUDENTS</td>\n",
       "      <td>BC PUBLIC SCHOOL</td>\n",
       "      <td>93.0</td>\n",
       "      <td>Conseil scolaire francophone</td>\n",
       "      <td>ALL FACILITY TYPES</td>\n",
       "      <td>GRAD_5_YEAR SUB_MODEL</td>\n",
       "      <td>STATIC MODEL</td>\n",
       "      <td>217</td>\n",
       "      <td>185</td>\n",
       "      <td>35.196</td>\n",
       "      <td>100</td>\n",
       "    </tr>\n",
       "    <tr>\n",
       "      <th>55592</th>\n",
       "      <td>2020/2021</td>\n",
       "      <td>DISTRICT LEVEL</td>\n",
       "      <td>INDIGENOUS</td>\n",
       "      <td>BC PUBLIC SCHOOL</td>\n",
       "      <td>93.0</td>\n",
       "      <td>Conseil scolaire francophone</td>\n",
       "      <td>ALL FACILITY TYPES</td>\n",
       "      <td>GRAD_5_YEAR SUB_MODEL</td>\n",
       "      <td>STATIC MODEL</td>\n",
       "      <td>24</td>\n",
       "      <td>20</td>\n",
       "      <td>3.312</td>\n",
       "      <td>96.677</td>\n",
       "    </tr>\n",
       "    <tr>\n",
       "      <th>55593</th>\n",
       "      <td>2020/2021</td>\n",
       "      <td>DISTRICT LEVEL</td>\n",
       "      <td>NON INDIGENOUS</td>\n",
       "      <td>BC PUBLIC SCHOOL</td>\n",
       "      <td>93.0</td>\n",
       "      <td>Conseil scolaire francophone</td>\n",
       "      <td>ALL FACILITY TYPES</td>\n",
       "      <td>GRAD_5_YEAR SUB_MODEL</td>\n",
       "      <td>STATIC MODEL</td>\n",
       "      <td>193</td>\n",
       "      <td>165</td>\n",
       "      <td>31.884</td>\n",
       "      <td>100</td>\n",
       "    </tr>\n",
       "    <tr>\n",
       "      <th>55594</th>\n",
       "      <td>2020/2021</td>\n",
       "      <td>DISTRICT LEVEL</td>\n",
       "      <td>SPECIAL NEEDS</td>\n",
       "      <td>BC PUBLIC SCHOOL</td>\n",
       "      <td>93.0</td>\n",
       "      <td>Conseil scolaire francophone</td>\n",
       "      <td>ALL FACILITY TYPES</td>\n",
       "      <td>GRAD_5_YEAR SUB_MODEL</td>\n",
       "      <td>STATIC MODEL</td>\n",
       "      <td>45</td>\n",
       "      <td>41</td>\n",
       "      <td>6.97</td>\n",
       "      <td>100</td>\n",
       "    </tr>\n",
       "    <tr>\n",
       "      <th>55595</th>\n",
       "      <td>2020/2021</td>\n",
       "      <td>DISTRICT LEVEL</td>\n",
       "      <td>NON SPECIAL NEEDS</td>\n",
       "      <td>BC PUBLIC SCHOOL</td>\n",
       "      <td>93.0</td>\n",
       "      <td>Conseil scolaire francophone</td>\n",
       "      <td>ALL FACILITY TYPES</td>\n",
       "      <td>GRAD_5_YEAR SUB_MODEL</td>\n",
       "      <td>STATIC MODEL</td>\n",
       "      <td>172</td>\n",
       "      <td>144</td>\n",
       "      <td>28.226</td>\n",
       "      <td>100</td>\n",
       "    </tr>\n",
       "  </tbody>\n",
       "</table>\n",
       "<p>55596 rows × 13 columns</p>\n",
       "</div>"
      ],
      "text/plain": [
       "      YEAR_6_OF_COHORT      DATA_LEVEL     SUB_POPULATION  \\\n",
       "0            1997/1998  PROVINCE LEVEL       ALL STUDENTS   \n",
       "1            1997/1998  PROVINCE LEVEL         INDIGENOUS   \n",
       "2            1997/1998  PROVINCE LEVEL     NON INDIGENOUS   \n",
       "3            1997/1998  PROVINCE LEVEL      SPECIAL NEEDS   \n",
       "4            1997/1998  PROVINCE LEVEL  NON SPECIAL NEEDS   \n",
       "...                ...             ...                ...   \n",
       "55591        2020/2021  DISTRICT LEVEL       ALL STUDENTS   \n",
       "55592        2020/2021  DISTRICT LEVEL         INDIGENOUS   \n",
       "55593        2020/2021  DISTRICT LEVEL     NON INDIGENOUS   \n",
       "55594        2020/2021  DISTRICT LEVEL      SPECIAL NEEDS   \n",
       "55595        2020/2021  DISTRICT LEVEL  NON SPECIAL NEEDS   \n",
       "\n",
       "      PUBLIC_OR_INDEPENDENT  DISTRICT_NUMBER                 DISTRICT_NAME  \\\n",
       "0            PROVINCE-TOTAL              NaN                           NaN   \n",
       "1            PROVINCE-TOTAL              NaN                           NaN   \n",
       "2            PROVINCE-TOTAL              NaN                           NaN   \n",
       "3            PROVINCE-TOTAL              NaN                           NaN   \n",
       "4            PROVINCE-TOTAL              NaN                           NaN   \n",
       "...                     ...              ...                           ...   \n",
       "55591      BC PUBLIC SCHOOL             93.0  Conseil scolaire francophone   \n",
       "55592      BC PUBLIC SCHOOL             93.0  Conseil scolaire francophone   \n",
       "55593      BC PUBLIC SCHOOL             93.0  Conseil scolaire francophone   \n",
       "55594      BC PUBLIC SCHOOL             93.0  Conseil scolaire francophone   \n",
       "55595      BC PUBLIC SCHOOL             93.0  Conseil scolaire francophone   \n",
       "\n",
       "            FACILITY_TYPE       COMPLETION_RATE_MODEL     MODEL_TYPE  \\\n",
       "0      ALL FACILITY TYPES  GRAD_7_YEAR EXTENDED_MODEL  DYNAMIC MODEL   \n",
       "1      ALL FACILITY TYPES  GRAD_7_YEAR EXTENDED_MODEL  DYNAMIC MODEL   \n",
       "2      ALL FACILITY TYPES  GRAD_7_YEAR EXTENDED_MODEL  DYNAMIC MODEL   \n",
       "3      ALL FACILITY TYPES  GRAD_7_YEAR EXTENDED_MODEL  DYNAMIC MODEL   \n",
       "4      ALL FACILITY TYPES  GRAD_7_YEAR EXTENDED_MODEL  DYNAMIC MODEL   \n",
       "...                   ...                         ...            ...   \n",
       "55591  ALL FACILITY TYPES       GRAD_5_YEAR SUB_MODEL   STATIC MODEL   \n",
       "55592  ALL FACILITY TYPES       GRAD_5_YEAR SUB_MODEL   STATIC MODEL   \n",
       "55593  ALL FACILITY TYPES       GRAD_5_YEAR SUB_MODEL   STATIC MODEL   \n",
       "55594  ALL FACILITY TYPES       GRAD_5_YEAR SUB_MODEL   STATIC MODEL   \n",
       "55595  ALL FACILITY TYPES       GRAD_5_YEAR SUB_MODEL   STATIC MODEL   \n",
       "\n",
       "      COHORT_COUNT SUCCESS_COUNT ESTIMATED_OUTMIGRANTS  \\\n",
       "0            50298         34014              5157.609   \n",
       "1             3725          1284               451.518   \n",
       "2            46573         32730              4706.091   \n",
       "3              915           210               111.229   \n",
       "4            49383         33804              5046.381   \n",
       "...            ...           ...                   ...   \n",
       "55591          217           185                35.196   \n",
       "55592           24            20                 3.312   \n",
       "55593          193           165                31.884   \n",
       "55594           45            41                  6.97   \n",
       "55595          172           144                28.226   \n",
       "\n",
       "      ESTIMATED_COMPLETION_RATE  \n",
       "0                        75.352  \n",
       "1                        39.224  \n",
       "2                        78.176  \n",
       "3                        26.127  \n",
       "4                        76.244  \n",
       "...                         ...  \n",
       "55591                       100  \n",
       "55592                    96.677  \n",
       "55593                       100  \n",
       "55594                       100  \n",
       "55595                       100  \n",
       "\n",
       "[55596 rows x 13 columns]"
      ]
     },
     "execution_count": 50,
     "metadata": {},
     "output_type": "execute_result"
    }
   ],
   "source": [
    "df = pd.read_csv(\"../data/raw/Completion_Rate_residents_only_97-21.csv\")\n",
    "df"
   ]
  },
  {
   "cell_type": "markdown",
   "metadata": {},
   "source": [
    "### Our raw dataset has 55596 rows and 13 columns:"
   ]
  },
  {
   "cell_type": "code",
   "execution_count": 51,
   "metadata": {},
   "outputs": [
    {
     "data": {
      "text/plain": [
       "(55596, 13)"
      ]
     },
     "execution_count": 51,
     "metadata": {},
     "output_type": "execute_result"
    }
   ],
   "source": [
    "df.shape"
   ]
  },
  {
   "cell_type": "code",
   "execution_count": 52,
   "metadata": {},
   "outputs": [
    {
     "data": {
      "text/html": [
       "<div>\n",
       "<style scoped>\n",
       "    .dataframe tbody tr th:only-of-type {\n",
       "        vertical-align: middle;\n",
       "    }\n",
       "\n",
       "    .dataframe tbody tr th {\n",
       "        vertical-align: top;\n",
       "    }\n",
       "\n",
       "    .dataframe thead th {\n",
       "        text-align: right;\n",
       "    }\n",
       "</style>\n",
       "<table border=\"1\" class=\"dataframe\">\n",
       "  <thead>\n",
       "    <tr style=\"text-align: right;\">\n",
       "      <th></th>\n",
       "      <th>YEAR_6_OF_COHORT</th>\n",
       "      <th>DATA_LEVEL</th>\n",
       "      <th>SUB_POPULATION</th>\n",
       "      <th>PUBLIC_OR_INDEPENDENT</th>\n",
       "      <th>DISTRICT_NUMBER</th>\n",
       "      <th>DISTRICT_NAME</th>\n",
       "      <th>FACILITY_TYPE</th>\n",
       "      <th>COMPLETION_RATE_MODEL</th>\n",
       "      <th>MODEL_TYPE</th>\n",
       "      <th>COHORT_COUNT</th>\n",
       "      <th>SUCCESS_COUNT</th>\n",
       "      <th>ESTIMATED_OUTMIGRANTS</th>\n",
       "      <th>ESTIMATED_COMPLETION_RATE</th>\n",
       "    </tr>\n",
       "  </thead>\n",
       "  <tbody>\n",
       "    <tr>\n",
       "      <th>0</th>\n",
       "      <td>1997/1998</td>\n",
       "      <td>PROVINCE LEVEL</td>\n",
       "      <td>ALL STUDENTS</td>\n",
       "      <td>PROVINCE-TOTAL</td>\n",
       "      <td>NaN</td>\n",
       "      <td>NaN</td>\n",
       "      <td>ALL FACILITY TYPES</td>\n",
       "      <td>GRAD_7_YEAR EXTENDED_MODEL</td>\n",
       "      <td>DYNAMIC MODEL</td>\n",
       "      <td>50298</td>\n",
       "      <td>34014</td>\n",
       "      <td>5157.609</td>\n",
       "      <td>75.352</td>\n",
       "    </tr>\n",
       "    <tr>\n",
       "      <th>1</th>\n",
       "      <td>1997/1998</td>\n",
       "      <td>PROVINCE LEVEL</td>\n",
       "      <td>INDIGENOUS</td>\n",
       "      <td>PROVINCE-TOTAL</td>\n",
       "      <td>NaN</td>\n",
       "      <td>NaN</td>\n",
       "      <td>ALL FACILITY TYPES</td>\n",
       "      <td>GRAD_7_YEAR EXTENDED_MODEL</td>\n",
       "      <td>DYNAMIC MODEL</td>\n",
       "      <td>3725</td>\n",
       "      <td>1284</td>\n",
       "      <td>451.518</td>\n",
       "      <td>39.224</td>\n",
       "    </tr>\n",
       "    <tr>\n",
       "      <th>2</th>\n",
       "      <td>1997/1998</td>\n",
       "      <td>PROVINCE LEVEL</td>\n",
       "      <td>NON INDIGENOUS</td>\n",
       "      <td>PROVINCE-TOTAL</td>\n",
       "      <td>NaN</td>\n",
       "      <td>NaN</td>\n",
       "      <td>ALL FACILITY TYPES</td>\n",
       "      <td>GRAD_7_YEAR EXTENDED_MODEL</td>\n",
       "      <td>DYNAMIC MODEL</td>\n",
       "      <td>46573</td>\n",
       "      <td>32730</td>\n",
       "      <td>4706.091</td>\n",
       "      <td>78.176</td>\n",
       "    </tr>\n",
       "    <tr>\n",
       "      <th>3</th>\n",
       "      <td>1997/1998</td>\n",
       "      <td>PROVINCE LEVEL</td>\n",
       "      <td>SPECIAL NEEDS</td>\n",
       "      <td>PROVINCE-TOTAL</td>\n",
       "      <td>NaN</td>\n",
       "      <td>NaN</td>\n",
       "      <td>ALL FACILITY TYPES</td>\n",
       "      <td>GRAD_7_YEAR EXTENDED_MODEL</td>\n",
       "      <td>DYNAMIC MODEL</td>\n",
       "      <td>915</td>\n",
       "      <td>210</td>\n",
       "      <td>111.229</td>\n",
       "      <td>26.127</td>\n",
       "    </tr>\n",
       "    <tr>\n",
       "      <th>4</th>\n",
       "      <td>1997/1998</td>\n",
       "      <td>PROVINCE LEVEL</td>\n",
       "      <td>NON SPECIAL NEEDS</td>\n",
       "      <td>PROVINCE-TOTAL</td>\n",
       "      <td>NaN</td>\n",
       "      <td>NaN</td>\n",
       "      <td>ALL FACILITY TYPES</td>\n",
       "      <td>GRAD_7_YEAR EXTENDED_MODEL</td>\n",
       "      <td>DYNAMIC MODEL</td>\n",
       "      <td>49383</td>\n",
       "      <td>33804</td>\n",
       "      <td>5046.381</td>\n",
       "      <td>76.244</td>\n",
       "    </tr>\n",
       "  </tbody>\n",
       "</table>\n",
       "</div>"
      ],
      "text/plain": [
       "  YEAR_6_OF_COHORT      DATA_LEVEL     SUB_POPULATION PUBLIC_OR_INDEPENDENT  \\\n",
       "0        1997/1998  PROVINCE LEVEL       ALL STUDENTS        PROVINCE-TOTAL   \n",
       "1        1997/1998  PROVINCE LEVEL         INDIGENOUS        PROVINCE-TOTAL   \n",
       "2        1997/1998  PROVINCE LEVEL     NON INDIGENOUS        PROVINCE-TOTAL   \n",
       "3        1997/1998  PROVINCE LEVEL      SPECIAL NEEDS        PROVINCE-TOTAL   \n",
       "4        1997/1998  PROVINCE LEVEL  NON SPECIAL NEEDS        PROVINCE-TOTAL   \n",
       "\n",
       "   DISTRICT_NUMBER DISTRICT_NAME       FACILITY_TYPE  \\\n",
       "0              NaN           NaN  ALL FACILITY TYPES   \n",
       "1              NaN           NaN  ALL FACILITY TYPES   \n",
       "2              NaN           NaN  ALL FACILITY TYPES   \n",
       "3              NaN           NaN  ALL FACILITY TYPES   \n",
       "4              NaN           NaN  ALL FACILITY TYPES   \n",
       "\n",
       "        COMPLETION_RATE_MODEL     MODEL_TYPE COHORT_COUNT SUCCESS_COUNT  \\\n",
       "0  GRAD_7_YEAR EXTENDED_MODEL  DYNAMIC MODEL        50298         34014   \n",
       "1  GRAD_7_YEAR EXTENDED_MODEL  DYNAMIC MODEL         3725          1284   \n",
       "2  GRAD_7_YEAR EXTENDED_MODEL  DYNAMIC MODEL        46573         32730   \n",
       "3  GRAD_7_YEAR EXTENDED_MODEL  DYNAMIC MODEL          915           210   \n",
       "4  GRAD_7_YEAR EXTENDED_MODEL  DYNAMIC MODEL        49383         33804   \n",
       "\n",
       "  ESTIMATED_OUTMIGRANTS ESTIMATED_COMPLETION_RATE  \n",
       "0              5157.609                    75.352  \n",
       "1               451.518                    39.224  \n",
       "2              4706.091                    78.176  \n",
       "3               111.229                    26.127  \n",
       "4              5046.381                    76.244  "
      ]
     },
     "execution_count": 52,
     "metadata": {},
     "output_type": "execute_result"
    }
   ],
   "source": [
    "df.head()"
   ]
  },
  {
   "cell_type": "markdown",
   "metadata": {},
   "source": [
    "### Listed below is each row of the dataset broken down - before eliminating columns:"
   ]
  },
  {
   "cell_type": "code",
   "execution_count": 53,
   "metadata": {},
   "outputs": [
    {
     "data": {
      "text/plain": [
       "['YEAR_6_OF_COHORT',\n",
       " 'DATA_LEVEL',\n",
       " 'SUB_POPULATION',\n",
       " 'PUBLIC_OR_INDEPENDENT',\n",
       " 'DISTRICT_NUMBER',\n",
       " 'DISTRICT_NAME',\n",
       " 'FACILITY_TYPE',\n",
       " 'COMPLETION_RATE_MODEL',\n",
       " 'MODEL_TYPE',\n",
       " 'COHORT_COUNT',\n",
       " 'SUCCESS_COUNT',\n",
       " 'ESTIMATED_OUTMIGRANTS',\n",
       " 'ESTIMATED_COMPLETION_RATE']"
      ]
     },
     "execution_count": 53,
     "metadata": {},
     "output_type": "execute_result"
    }
   ],
   "source": [
    "list(df.columns) "
   ]
  },
  {
   "cell_type": "markdown",
   "metadata": {},
   "source": [
    "#### Checking our dataset to make sure there are not duplicant values:"
   ]
  },
  {
   "cell_type": "code",
   "execution_count": 54,
   "metadata": {},
   "outputs": [
    {
     "name": "stdout",
     "output_type": "stream",
     "text": [
      "No duplicated entries found\n"
     ]
    }
   ],
   "source": [
    "if len(df[df.duplicated()]) > 0:\n",
    "    print(\"No. of duplicated entries: \", len(df[df.duplicated()]))\n",
    "    print(df[df.duplicated(keep=False)].sort_values(by=list(df.columns)).head())\n",
    "else:\n",
    "    print(\"No duplicated entries found\")"
   ]
  },
  {
   "cell_type": "markdown",
   "metadata": {},
   "source": [
    "#### The list below demonstrates the unique values of our dataset:"
   ]
  },
  {
   "cell_type": "code",
   "execution_count": 55,
   "metadata": {},
   "outputs": [
    {
     "data": {
      "text/plain": [
       "YEAR_6_OF_COHORT                24\n",
       "DATA_LEVEL                       2\n",
       "SUB_POPULATION                   5\n",
       "PUBLIC_OR_INDEPENDENT            3\n",
       "DISTRICT_NUMBER                 60\n",
       "DISTRICT_NAME                   60\n",
       "FACILITY_TYPE                    1\n",
       "COMPLETION_RATE_MODEL            8\n",
       "MODEL_TYPE                       2\n",
       "COHORT_COUNT                  4908\n",
       "SUCCESS_COUNT                 4928\n",
       "ESTIMATED_OUTMIGRANTS        34589\n",
       "ESTIMATED_COMPLETION_RATE    27168\n",
       "dtype: int64"
      ]
     },
     "execution_count": 55,
     "metadata": {},
     "output_type": "execute_result"
    }
   ],
   "source": [
    "df.nunique()"
   ]
  },
  {
   "cell_type": "markdown",
   "metadata": {},
   "source": [
    "#### Below is all cohort years considered within our dataset:"
   ]
  },
  {
   "cell_type": "code",
   "execution_count": 56,
   "metadata": {},
   "outputs": [
    {
     "data": {
      "text/plain": [
       "array(['1997/1998', '1998/1999', '1999/2000', '2000/2001', '2001/2002',\n",
       "       '2002/2003', '2003/2004', '2004/2005', '2005/2006', '2006/2007',\n",
       "       '2007/2008', '2008/2009', '2009/2010', '2010/2011', '2011/2012',\n",
       "       '2012/2013', '2013/2014', '2014/2015', '2015/2016', '2016/2017',\n",
       "       '2017/2018', '2018/2019', '2019/2020', '2020/2021'], dtype=object)"
      ]
     },
     "execution_count": 56,
     "metadata": {},
     "output_type": "execute_result"
    }
   ],
   "source": [
    "df[\"YEAR_6_OF_COHORT\"].unique()"
   ]
  },
  {
   "cell_type": "markdown",
   "metadata": {},
   "source": [
    "#### Explain this later:"
   ]
  },
  {
   "cell_type": "code",
   "execution_count": 57,
   "metadata": {},
   "outputs": [
    {
     "data": {
      "text/plain": [
       "array(['GRAD_7_YEAR EXTENDED_MODEL', 'GRAD_8_YEAR EXTENDED_MODEL',\n",
       "       'SIX YEAR DOGWOOD COMPLETION RATE', 'PROG_2_YEAR SUB_MODEL',\n",
       "       'PROG_3_YEAR SUB_MODEL', 'PROG_4_YEAR SUB_MODEL',\n",
       "       'PROG_5_YEAR SUB_MODEL', 'GRAD_5_YEAR SUB_MODEL'], dtype=object)"
      ]
     },
     "execution_count": 57,
     "metadata": {},
     "output_type": "execute_result"
    }
   ],
   "source": [
    "df[\"COMPLETION_RATE_MODEL\"].unique()"
   ]
  },
  {
   "cell_type": "markdown",
   "metadata": {},
   "source": [
    "#### The amount of students in each cohort:"
   ]
  },
  {
   "cell_type": "code",
   "execution_count": 58,
   "metadata": {},
   "outputs": [
    {
     "data": {
      "text/plain": [
       "array(['50298', '3725', '46573', ..., '1935', '2618', '2481'],\n",
       "      dtype=object)"
      ]
     },
     "execution_count": 58,
     "metadata": {},
     "output_type": "execute_result"
    }
   ],
   "source": [
    "df[\"COHORT_COUNT\"].unique()"
   ]
  },
  {
   "cell_type": "markdown",
   "metadata": {},
   "source": [
    "#### For every student who completes a grade by following the criteria set for the cohort the score increases by one, if students do not satisfy the grading criteria, they are given a score of zero"
   ]
  },
  {
   "cell_type": "code",
   "execution_count": 59,
   "metadata": {},
   "outputs": [
    {
     "data": {
      "text/plain": [
       "array(['34014', '1284', '32730', ..., '3293', '2214', '2130'],\n",
       "      dtype=object)"
      ]
     },
     "execution_count": 59,
     "metadata": {},
     "output_type": "execute_result"
    }
   ],
   "source": [
    "df[\"SUCCESS_COUNT\"].unique()"
   ]
  },
  {
   "cell_type": "markdown",
   "metadata": {},
   "source": [
    "#### Each district number below matches to a district name:"
   ]
  },
  {
   "cell_type": "code",
   "execution_count": 60,
   "metadata": {},
   "outputs": [
    {
     "data": {
      "text/plain": [
       "array([nan,  5.,  6.,  8., 10., 19., 20., 22., 23., 27., 28., 33., 34.,\n",
       "       35., 36., 37., 38., 39., 40., 41., 42., 43., 44., 45., 46., 47.,\n",
       "       48., 49., 50., 51., 52., 53., 54., 57., 58., 59., 60., 61., 62.,\n",
       "       63., 64., 67., 68., 69., 70., 71., 72., 73., 74., 75., 78., 79.,\n",
       "       81., 82., 83., 84., 85., 87., 91., 92., 93.])"
      ]
     },
     "execution_count": 60,
     "metadata": {},
     "output_type": "execute_result"
    }
   ],
   "source": [
    "df[\"DISTRICT_NUMBER\"].unique()"
   ]
  },
  {
   "cell_type": "code",
   "execution_count": 61,
   "metadata": {},
   "outputs": [
    {
     "data": {
      "text/plain": [
       "array([nan, 'Southeast Kootenay', 'Rocky Mountain', 'Kootenay Lake',\n",
       "       'Arrow Lakes', 'Revelstoke', 'Kootenay-Columbia', 'Vernon',\n",
       "       'Central Okanagan', 'Cariboo-Chilcotin', 'Quesnel', 'Chilliwack',\n",
       "       'Abbotsford', 'Langley', 'Surrey', 'Delta', 'Richmond',\n",
       "       'Vancouver', 'New Westminster', 'Burnaby',\n",
       "       'Maple Ridge-Pitt Meadows', 'Coquitlam', 'North Vancouver',\n",
       "       'West Vancouver', 'Sunshine Coast', 'Powell River', 'Sea to Sky',\n",
       "       'Central Coast', 'Haida Gwaii', 'Boundary', 'Prince Rupert',\n",
       "       'Okanagan Similkameen', 'Bulkley Valley', 'Prince George',\n",
       "       'Nicola-Similkameen', 'Peace River South', 'Peace River North',\n",
       "       'Greater Victoria', 'Sooke', 'Saanich', 'Gulf Islands',\n",
       "       'Okanagan Skaha', 'Nanaimo-Ladysmith', 'Qualicum', 'Pacific Rim',\n",
       "       'Comox Valley', 'Campbell River', 'Kamloops-Thompson',\n",
       "       'Gold Trail', 'Mission', 'Fraser-Cascade', 'Cowichan Valley',\n",
       "       'Fort Nelson', 'Coast Mountains', 'North Okanagan-Shuswap',\n",
       "       'Vancouver Island West', 'Vancouver Island North', 'Stikine',\n",
       "       'Nechako Lakes', \"Nisga'a\", 'Conseil scolaire francophone'],\n",
       "      dtype=object)"
      ]
     },
     "execution_count": 61,
     "metadata": {},
     "output_type": "execute_result"
    }
   ],
   "source": [
    "df[\"DISTRICT_NAME\"].unique()"
   ]
  },
  {
   "cell_type": "markdown",
   "metadata": {},
   "source": [
    "## IMPORTANT TO KNOW:\n",
    "Through the process of adding graphs and visuals our group realized that our data was type(String), which made our data very difficult to visualize. To fix this problem we cleaned our data and removed Msk (masked) data - can be seen below. Then we were able to save the data using pandas to_csv() function. We believe this is changed our Strings to Int - making the data useable. From this point forward our data will be from our processed folder."
   ]
  },
  {
   "cell_type": "markdown",
   "metadata": {},
   "source": [
    "fig.1"
   ]
  },
  {
   "cell_type": "code",
   "execution_count": 62,
   "metadata": {},
   "outputs": [
    {
     "data": {
      "text/plain": [
       "<AxesSubplot:>"
      ]
     },
     "execution_count": 62,
     "metadata": {},
     "output_type": "execute_result"
    },
    {
     "data": {
      "image/png": "[encoded data removed]",
      "text/plain": [
       "<Figure size 640x480 with 2 Axes>"
      ]
     },
     "metadata": {},
     "output_type": "display_data"
    }
   ],
   "source": [
    "cdf = pd.read_csv(\"../data/processed/Completion_Rates_Clean.csv\")\n",
    "corr = cdf.corr()\n",
    "sns.heatmap(corr, xticklabels=corr.columns, yticklabels=corr.columns, annot=True, cmap=sns.diverging_palette(200, 20, as_cmap=True))"
   ]
  },
  {
   "cell_type": "markdown",
   "metadata": {},
   "source": [
    "### Fig.1 Explained:\n",
    "\n",
    "From this graph I gather that there is a high correlation between SUCCESS_COUNT and COHORT_COUNT, I plan to develop this connection further."
   ]
  },
  {
   "cell_type": "markdown",
   "metadata": {},
   "source": [
    "fig.2"
   ]
  },
  {
   "cell_type": "code",
   "execution_count": 63,
   "metadata": {},
   "outputs": [
    {
     "data": {
      "text/plain": [
       "<AxesSubplot:xlabel='DISTRICT_NUMBER', ylabel='SUCCESS_COUNT'>"
      ]
     },
     "execution_count": 63,
     "metadata": {},
     "output_type": "execute_result"
    },
    {
     "data": {
      "image/png": "[encoded data removed]",
      "text/plain": [
       "<Figure size 640x480 with 1 Axes>"
      ]
     },
     "metadata": {},
     "output_type": "display_data"
    }
   ],
   "source": [
    "cdf.plot(kind='scatter', x='DISTRICT_NUMBER', y='SUCCESS_COUNT', color=\"green\") "
   ]
  },
  {
   "cell_type": "markdown",
   "metadata": {},
   "source": [
    "### Fig.2 Explained:\n",
    "This is another visual for showing the success of the students within a cohort compared the the district number the student is in, this allows us to consider geographical location in comparision to the success counts\n"
   ]
  },
  {
   "cell_type": "markdown",
   "metadata": {},
   "source": [
    "fig.3"
   ]
  },
  {
   "cell_type": "code",
   "execution_count": 82,
   "metadata": {},
   "outputs": [
    {
     "ename": "SyntaxError",
     "evalue": "invalid syntax (3060992697.py, line 3)",
     "output_type": "error",
     "traceback": [
      "\u001b[1;36m  Cell \u001b[1;32mIn [82], line 3\u001b[1;36m\u001b[0m\n\u001b[1;33m    x=\"SUCCESS_COUNT\", colour = \"green\" y=\"COHORT_COUNT\",\u001b[0m\n\u001b[1;37m                                        ^\u001b[0m\n\u001b[1;31mSyntaxError\u001b[0m\u001b[1;31m:\u001b[0m invalid syntax\n"
     ]
    }
   ],
   "source": [
    "# g = sns.lmplot(\n",
    "#     data=cdf,\n",
    "#     x=\"SUCCESS_COUNT\", colour = \"green\" y=\"COHORT_COUNT\",\n",
    "#     #height=5\n",
    ")"
   ]
  },
  {
   "cell_type": "markdown",
   "metadata": {},
   "source": [
    "# Task 2 - Analysis Pipeline"
   ]
  },
  {
   "cell_type": "markdown",
   "metadata": {
    "tags": []
   },
   "source": [
    "### Now that I have dissected data from each element of my interest I will now eliminate columns not listed above."
   ]
  },
  {
   "cell_type": "code",
   "execution_count": 64,
   "metadata": {},
   "outputs": [
    {
     "data": {
      "text/html": [
       "<div>\n",
       "<style scoped>\n",
       "    .dataframe tbody tr th:only-of-type {\n",
       "        vertical-align: middle;\n",
       "    }\n",
       "\n",
       "    .dataframe tbody tr th {\n",
       "        vertical-align: top;\n",
       "    }\n",
       "\n",
       "    .dataframe thead th {\n",
       "        text-align: right;\n",
       "    }\n",
       "</style>\n",
       "<table border=\"1\" class=\"dataframe\">\n",
       "  <thead>\n",
       "    <tr style=\"text-align: right;\">\n",
       "      <th></th>\n",
       "      <th>YEAR_6_OF_COHORT</th>\n",
       "      <th>DISTRICT_NUMBER</th>\n",
       "      <th>DISTRICT_NAME</th>\n",
       "      <th>COMPLETION_RATE_MODEL</th>\n",
       "      <th>MODEL_TYPE</th>\n",
       "      <th>COHORT_COUNT</th>\n",
       "      <th>SUCCESS_COUNT</th>\n",
       "    </tr>\n",
       "  </thead>\n",
       "  <tbody>\n",
       "    <tr>\n",
       "      <th>0</th>\n",
       "      <td>1997/1998</td>\n",
       "      <td>NaN</td>\n",
       "      <td>NaN</td>\n",
       "      <td>GRAD_7_YEAR EXTENDED_MODEL</td>\n",
       "      <td>DYNAMIC MODEL</td>\n",
       "      <td>50298</td>\n",
       "      <td>34014</td>\n",
       "    </tr>\n",
       "    <tr>\n",
       "      <th>1</th>\n",
       "      <td>1997/1998</td>\n",
       "      <td>NaN</td>\n",
       "      <td>NaN</td>\n",
       "      <td>GRAD_7_YEAR EXTENDED_MODEL</td>\n",
       "      <td>DYNAMIC MODEL</td>\n",
       "      <td>3725</td>\n",
       "      <td>1284</td>\n",
       "    </tr>\n",
       "    <tr>\n",
       "      <th>2</th>\n",
       "      <td>1997/1998</td>\n",
       "      <td>NaN</td>\n",
       "      <td>NaN</td>\n",
       "      <td>GRAD_7_YEAR EXTENDED_MODEL</td>\n",
       "      <td>DYNAMIC MODEL</td>\n",
       "      <td>46573</td>\n",
       "      <td>32730</td>\n",
       "    </tr>\n",
       "    <tr>\n",
       "      <th>3</th>\n",
       "      <td>1997/1998</td>\n",
       "      <td>NaN</td>\n",
       "      <td>NaN</td>\n",
       "      <td>GRAD_7_YEAR EXTENDED_MODEL</td>\n",
       "      <td>DYNAMIC MODEL</td>\n",
       "      <td>915</td>\n",
       "      <td>210</td>\n",
       "    </tr>\n",
       "    <tr>\n",
       "      <th>4</th>\n",
       "      <td>1997/1998</td>\n",
       "      <td>NaN</td>\n",
       "      <td>NaN</td>\n",
       "      <td>GRAD_7_YEAR EXTENDED_MODEL</td>\n",
       "      <td>DYNAMIC MODEL</td>\n",
       "      <td>49383</td>\n",
       "      <td>33804</td>\n",
       "    </tr>\n",
       "    <tr>\n",
       "      <th>...</th>\n",
       "      <td>...</td>\n",
       "      <td>...</td>\n",
       "      <td>...</td>\n",
       "      <td>...</td>\n",
       "      <td>...</td>\n",
       "      <td>...</td>\n",
       "      <td>...</td>\n",
       "    </tr>\n",
       "    <tr>\n",
       "      <th>55591</th>\n",
       "      <td>2020/2021</td>\n",
       "      <td>93.0</td>\n",
       "      <td>Conseil scolaire francophone</td>\n",
       "      <td>GRAD_5_YEAR SUB_MODEL</td>\n",
       "      <td>STATIC MODEL</td>\n",
       "      <td>217</td>\n",
       "      <td>185</td>\n",
       "    </tr>\n",
       "    <tr>\n",
       "      <th>55592</th>\n",
       "      <td>2020/2021</td>\n",
       "      <td>93.0</td>\n",
       "      <td>Conseil scolaire francophone</td>\n",
       "      <td>GRAD_5_YEAR SUB_MODEL</td>\n",
       "      <td>STATIC MODEL</td>\n",
       "      <td>24</td>\n",
       "      <td>20</td>\n",
       "    </tr>\n",
       "    <tr>\n",
       "      <th>55593</th>\n",
       "      <td>2020/2021</td>\n",
       "      <td>93.0</td>\n",
       "      <td>Conseil scolaire francophone</td>\n",
       "      <td>GRAD_5_YEAR SUB_MODEL</td>\n",
       "      <td>STATIC MODEL</td>\n",
       "      <td>193</td>\n",
       "      <td>165</td>\n",
       "    </tr>\n",
       "    <tr>\n",
       "      <th>55594</th>\n",
       "      <td>2020/2021</td>\n",
       "      <td>93.0</td>\n",
       "      <td>Conseil scolaire francophone</td>\n",
       "      <td>GRAD_5_YEAR SUB_MODEL</td>\n",
       "      <td>STATIC MODEL</td>\n",
       "      <td>45</td>\n",
       "      <td>41</td>\n",
       "    </tr>\n",
       "    <tr>\n",
       "      <th>55595</th>\n",
       "      <td>2020/2021</td>\n",
       "      <td>93.0</td>\n",
       "      <td>Conseil scolaire francophone</td>\n",
       "      <td>GRAD_5_YEAR SUB_MODEL</td>\n",
       "      <td>STATIC MODEL</td>\n",
       "      <td>172</td>\n",
       "      <td>144</td>\n",
       "    </tr>\n",
       "  </tbody>\n",
       "</table>\n",
       "<p>55596 rows × 7 columns</p>\n",
       "</div>"
      ],
      "text/plain": [
       "      YEAR_6_OF_COHORT  DISTRICT_NUMBER                 DISTRICT_NAME  \\\n",
       "0            1997/1998              NaN                           NaN   \n",
       "1            1997/1998              NaN                           NaN   \n",
       "2            1997/1998              NaN                           NaN   \n",
       "3            1997/1998              NaN                           NaN   \n",
       "4            1997/1998              NaN                           NaN   \n",
       "...                ...              ...                           ...   \n",
       "55591        2020/2021             93.0  Conseil scolaire francophone   \n",
       "55592        2020/2021             93.0  Conseil scolaire francophone   \n",
       "55593        2020/2021             93.0  Conseil scolaire francophone   \n",
       "55594        2020/2021             93.0  Conseil scolaire francophone   \n",
       "55595        2020/2021             93.0  Conseil scolaire francophone   \n",
       "\n",
       "            COMPLETION_RATE_MODEL     MODEL_TYPE COHORT_COUNT SUCCESS_COUNT  \n",
       "0      GRAD_7_YEAR EXTENDED_MODEL  DYNAMIC MODEL        50298         34014  \n",
       "1      GRAD_7_YEAR EXTENDED_MODEL  DYNAMIC MODEL         3725          1284  \n",
       "2      GRAD_7_YEAR EXTENDED_MODEL  DYNAMIC MODEL        46573         32730  \n",
       "3      GRAD_7_YEAR EXTENDED_MODEL  DYNAMIC MODEL          915           210  \n",
       "4      GRAD_7_YEAR EXTENDED_MODEL  DYNAMIC MODEL        49383         33804  \n",
       "...                           ...            ...          ...           ...  \n",
       "55591       GRAD_5_YEAR SUB_MODEL   STATIC MODEL          217           185  \n",
       "55592       GRAD_5_YEAR SUB_MODEL   STATIC MODEL           24            20  \n",
       "55593       GRAD_5_YEAR SUB_MODEL   STATIC MODEL          193           165  \n",
       "55594       GRAD_5_YEAR SUB_MODEL   STATIC MODEL           45            41  \n",
       "55595       GRAD_5_YEAR SUB_MODEL   STATIC MODEL          172           144  \n",
       "\n",
       "[55596 rows x 7 columns]"
      ]
     },
     "execution_count": 64,
     "metadata": {},
     "output_type": "execute_result"
    }
   ],
   "source": [
    "df = df.drop(\"DATA_LEVEL\", axis=1)\n",
    "df = df.drop(\"SUB_POPULATION\", axis=1)\n",
    "df = df.drop(\"PUBLIC_OR_INDEPENDENT\", axis=1)\n",
    "df = df.drop(\"FACILITY_TYPE\", axis=1)\n",
    "df = df.drop(\"ESTIMATED_OUTMIGRANTS\", axis=1)\n",
    "df = df.drop(\"ESTIMATED_COMPLETION_RATE\", axis=1)\n",
    "df\n"
   ]
  },
  {
   "cell_type": "markdown",
   "metadata": {},
   "source": [
    "Eliminating columns that did not work towards my research question allowed me to narrow down my data set to from 13 columns to 7"
   ]
  },
  {
   "cell_type": "markdown",
   "metadata": {},
   "source": [
    "### Then I will clean up my data and remove \"NaN\" and \"Msk\" from the table:"
   ]
  },
  {
   "cell_type": "code",
   "execution_count": 65,
   "metadata": {},
   "outputs": [
    {
     "data": {
      "text/html": [
       "<div>\n",
       "<style scoped>\n",
       "    .dataframe tbody tr th:only-of-type {\n",
       "        vertical-align: middle;\n",
       "    }\n",
       "\n",
       "    .dataframe tbody tr th {\n",
       "        vertical-align: top;\n",
       "    }\n",
       "\n",
       "    .dataframe thead th {\n",
       "        text-align: right;\n",
       "    }\n",
       "</style>\n",
       "<table border=\"1\" class=\"dataframe\">\n",
       "  <thead>\n",
       "    <tr style=\"text-align: right;\">\n",
       "      <th></th>\n",
       "      <th>YEAR_6_OF_COHORT</th>\n",
       "      <th>DISTRICT_NUMBER</th>\n",
       "      <th>DISTRICT_NAME</th>\n",
       "      <th>COMPLETION_RATE_MODEL</th>\n",
       "      <th>MODEL_TYPE</th>\n",
       "      <th>COHORT_COUNT</th>\n",
       "      <th>SUCCESS_COUNT</th>\n",
       "    </tr>\n",
       "  </thead>\n",
       "  <tbody>\n",
       "    <tr>\n",
       "      <th>15</th>\n",
       "      <td>1997/1998</td>\n",
       "      <td>5.0</td>\n",
       "      <td>Southeast Kootenay</td>\n",
       "      <td>GRAD_7_YEAR EXTENDED_MODEL</td>\n",
       "      <td>DYNAMIC MODEL</td>\n",
       "      <td>670</td>\n",
       "      <td>465</td>\n",
       "    </tr>\n",
       "    <tr>\n",
       "      <th>20</th>\n",
       "      <td>1997/1998</td>\n",
       "      <td>6.0</td>\n",
       "      <td>Rocky Mountain</td>\n",
       "      <td>GRAD_7_YEAR EXTENDED_MODEL</td>\n",
       "      <td>DYNAMIC MODEL</td>\n",
       "      <td>369</td>\n",
       "      <td>239</td>\n",
       "    </tr>\n",
       "    <tr>\n",
       "      <th>25</th>\n",
       "      <td>1997/1998</td>\n",
       "      <td>8.0</td>\n",
       "      <td>Kootenay Lake</td>\n",
       "      <td>GRAD_7_YEAR EXTENDED_MODEL</td>\n",
       "      <td>DYNAMIC MODEL</td>\n",
       "      <td>546</td>\n",
       "      <td>382</td>\n",
       "    </tr>\n",
       "    <tr>\n",
       "      <th>26</th>\n",
       "      <td>1997/1998</td>\n",
       "      <td>8.0</td>\n",
       "      <td>Kootenay Lake</td>\n",
       "      <td>GRAD_7_YEAR EXTENDED_MODEL</td>\n",
       "      <td>DYNAMIC MODEL</td>\n",
       "      <td>27</td>\n",
       "      <td>10</td>\n",
       "    </tr>\n",
       "    <tr>\n",
       "      <th>27</th>\n",
       "      <td>1997/1998</td>\n",
       "      <td>8.0</td>\n",
       "      <td>Kootenay Lake</td>\n",
       "      <td>GRAD_7_YEAR EXTENDED_MODEL</td>\n",
       "      <td>DYNAMIC MODEL</td>\n",
       "      <td>519</td>\n",
       "      <td>372</td>\n",
       "    </tr>\n",
       "    <tr>\n",
       "      <th>...</th>\n",
       "      <td>...</td>\n",
       "      <td>...</td>\n",
       "      <td>...</td>\n",
       "      <td>...</td>\n",
       "      <td>...</td>\n",
       "      <td>...</td>\n",
       "      <td>...</td>\n",
       "    </tr>\n",
       "    <tr>\n",
       "      <th>55591</th>\n",
       "      <td>2020/2021</td>\n",
       "      <td>93.0</td>\n",
       "      <td>Conseil scolaire francophone</td>\n",
       "      <td>GRAD_5_YEAR SUB_MODEL</td>\n",
       "      <td>STATIC MODEL</td>\n",
       "      <td>217</td>\n",
       "      <td>185</td>\n",
       "    </tr>\n",
       "    <tr>\n",
       "      <th>55592</th>\n",
       "      <td>2020/2021</td>\n",
       "      <td>93.0</td>\n",
       "      <td>Conseil scolaire francophone</td>\n",
       "      <td>GRAD_5_YEAR SUB_MODEL</td>\n",
       "      <td>STATIC MODEL</td>\n",
       "      <td>24</td>\n",
       "      <td>20</td>\n",
       "    </tr>\n",
       "    <tr>\n",
       "      <th>55593</th>\n",
       "      <td>2020/2021</td>\n",
       "      <td>93.0</td>\n",
       "      <td>Conseil scolaire francophone</td>\n",
       "      <td>GRAD_5_YEAR SUB_MODEL</td>\n",
       "      <td>STATIC MODEL</td>\n",
       "      <td>193</td>\n",
       "      <td>165</td>\n",
       "    </tr>\n",
       "    <tr>\n",
       "      <th>55594</th>\n",
       "      <td>2020/2021</td>\n",
       "      <td>93.0</td>\n",
       "      <td>Conseil scolaire francophone</td>\n",
       "      <td>GRAD_5_YEAR SUB_MODEL</td>\n",
       "      <td>STATIC MODEL</td>\n",
       "      <td>45</td>\n",
       "      <td>41</td>\n",
       "    </tr>\n",
       "    <tr>\n",
       "      <th>55595</th>\n",
       "      <td>2020/2021</td>\n",
       "      <td>93.0</td>\n",
       "      <td>Conseil scolaire francophone</td>\n",
       "      <td>GRAD_5_YEAR SUB_MODEL</td>\n",
       "      <td>STATIC MODEL</td>\n",
       "      <td>172</td>\n",
       "      <td>144</td>\n",
       "    </tr>\n",
       "  </tbody>\n",
       "</table>\n",
       "<p>47217 rows × 7 columns</p>\n",
       "</div>"
      ],
      "text/plain": [
       "      YEAR_6_OF_COHORT  DISTRICT_NUMBER                 DISTRICT_NAME  \\\n",
       "15           1997/1998              5.0            Southeast Kootenay   \n",
       "20           1997/1998              6.0                Rocky Mountain   \n",
       "25           1997/1998              8.0                 Kootenay Lake   \n",
       "26           1997/1998              8.0                 Kootenay Lake   \n",
       "27           1997/1998              8.0                 Kootenay Lake   \n",
       "...                ...              ...                           ...   \n",
       "55591        2020/2021             93.0  Conseil scolaire francophone   \n",
       "55592        2020/2021             93.0  Conseil scolaire francophone   \n",
       "55593        2020/2021             93.0  Conseil scolaire francophone   \n",
       "55594        2020/2021             93.0  Conseil scolaire francophone   \n",
       "55595        2020/2021             93.0  Conseil scolaire francophone   \n",
       "\n",
       "            COMPLETION_RATE_MODEL     MODEL_TYPE COHORT_COUNT SUCCESS_COUNT  \n",
       "15     GRAD_7_YEAR EXTENDED_MODEL  DYNAMIC MODEL          670           465  \n",
       "20     GRAD_7_YEAR EXTENDED_MODEL  DYNAMIC MODEL          369           239  \n",
       "25     GRAD_7_YEAR EXTENDED_MODEL  DYNAMIC MODEL          546           382  \n",
       "26     GRAD_7_YEAR EXTENDED_MODEL  DYNAMIC MODEL           27            10  \n",
       "27     GRAD_7_YEAR EXTENDED_MODEL  DYNAMIC MODEL          519           372  \n",
       "...                           ...            ...          ...           ...  \n",
       "55591       GRAD_5_YEAR SUB_MODEL   STATIC MODEL          217           185  \n",
       "55592       GRAD_5_YEAR SUB_MODEL   STATIC MODEL           24            20  \n",
       "55593       GRAD_5_YEAR SUB_MODEL   STATIC MODEL          193           165  \n",
       "55594       GRAD_5_YEAR SUB_MODEL   STATIC MODEL           45            41  \n",
       "55595       GRAD_5_YEAR SUB_MODEL   STATIC MODEL          172           144  \n",
       "\n",
       "[47217 rows x 7 columns]"
      ]
     },
     "execution_count": 65,
     "metadata": {},
     "output_type": "execute_result"
    }
   ],
   "source": [
    "df = df[df[ 'DISTRICT_NAME'].str.contains( 'NaN' )== False]\n",
    "df = df[df[ 'SUCCESS_COUNT'].str.contains( 'Msk' )== False]\n",
    "\n",
    "df"
   ]
  },
  {
   "cell_type": "markdown",
   "metadata": {},
   "source": [
    "After removing \"NaN\" and \"Msk\" from my data my dataset shrunk from 55596 rows to 47217 rows"
   ]
  },
  {
   "cell_type": "markdown",
   "metadata": {},
   "source": [
    "### Renaming column names to make more sense:"
   ]
  },
  {
   "cell_type": "code",
   "execution_count": 70,
   "metadata": {},
   "outputs": [
    {
     "data": {
      "text/html": [
       "<div>\n",
       "<style scoped>\n",
       "    .dataframe tbody tr th:only-of-type {\n",
       "        vertical-align: middle;\n",
       "    }\n",
       "\n",
       "    .dataframe tbody tr th {\n",
       "        vertical-align: top;\n",
       "    }\n",
       "\n",
       "    .dataframe thead th {\n",
       "        text-align: right;\n",
       "    }\n",
       "</style>\n",
       "<table border=\"1\" class=\"dataframe\">\n",
       "  <thead>\n",
       "    <tr style=\"text-align: right;\">\n",
       "      <th></th>\n",
       "      <th>Year</th>\n",
       "      <th>District_Number</th>\n",
       "      <th>District_Name</th>\n",
       "      <th>Completion_Rate_Model</th>\n",
       "      <th>Learning_Model</th>\n",
       "      <th>Cohort_Number</th>\n",
       "      <th>Success_Rate</th>\n",
       "    </tr>\n",
       "  </thead>\n",
       "  <tbody>\n",
       "    <tr>\n",
       "      <th>15</th>\n",
       "      <td>1997/1998</td>\n",
       "      <td>5.0</td>\n",
       "      <td>Southeast Kootenay</td>\n",
       "      <td>GRAD_7_YEAR EXTENDED_MODEL</td>\n",
       "      <td>DYNAMIC MODEL</td>\n",
       "      <td>670</td>\n",
       "      <td>465</td>\n",
       "    </tr>\n",
       "    <tr>\n",
       "      <th>20</th>\n",
       "      <td>1997/1998</td>\n",
       "      <td>6.0</td>\n",
       "      <td>Rocky Mountain</td>\n",
       "      <td>GRAD_7_YEAR EXTENDED_MODEL</td>\n",
       "      <td>DYNAMIC MODEL</td>\n",
       "      <td>369</td>\n",
       "      <td>239</td>\n",
       "    </tr>\n",
       "    <tr>\n",
       "      <th>25</th>\n",
       "      <td>1997/1998</td>\n",
       "      <td>8.0</td>\n",
       "      <td>Kootenay Lake</td>\n",
       "      <td>GRAD_7_YEAR EXTENDED_MODEL</td>\n",
       "      <td>DYNAMIC MODEL</td>\n",
       "      <td>546</td>\n",
       "      <td>382</td>\n",
       "    </tr>\n",
       "    <tr>\n",
       "      <th>26</th>\n",
       "      <td>1997/1998</td>\n",
       "      <td>8.0</td>\n",
       "      <td>Kootenay Lake</td>\n",
       "      <td>GRAD_7_YEAR EXTENDED_MODEL</td>\n",
       "      <td>DYNAMIC MODEL</td>\n",
       "      <td>27</td>\n",
       "      <td>10</td>\n",
       "    </tr>\n",
       "    <tr>\n",
       "      <th>27</th>\n",
       "      <td>1997/1998</td>\n",
       "      <td>8.0</td>\n",
       "      <td>Kootenay Lake</td>\n",
       "      <td>GRAD_7_YEAR EXTENDED_MODEL</td>\n",
       "      <td>DYNAMIC MODEL</td>\n",
       "      <td>519</td>\n",
       "      <td>372</td>\n",
       "    </tr>\n",
       "    <tr>\n",
       "      <th>...</th>\n",
       "      <td>...</td>\n",
       "      <td>...</td>\n",
       "      <td>...</td>\n",
       "      <td>...</td>\n",
       "      <td>...</td>\n",
       "      <td>...</td>\n",
       "      <td>...</td>\n",
       "    </tr>\n",
       "    <tr>\n",
       "      <th>55591</th>\n",
       "      <td>2020/2021</td>\n",
       "      <td>93.0</td>\n",
       "      <td>Conseil scolaire francophone</td>\n",
       "      <td>GRAD_5_YEAR SUB_MODEL</td>\n",
       "      <td>STATIC MODEL</td>\n",
       "      <td>217</td>\n",
       "      <td>185</td>\n",
       "    </tr>\n",
       "    <tr>\n",
       "      <th>55592</th>\n",
       "      <td>2020/2021</td>\n",
       "      <td>93.0</td>\n",
       "      <td>Conseil scolaire francophone</td>\n",
       "      <td>GRAD_5_YEAR SUB_MODEL</td>\n",
       "      <td>STATIC MODEL</td>\n",
       "      <td>24</td>\n",
       "      <td>20</td>\n",
       "    </tr>\n",
       "    <tr>\n",
       "      <th>55593</th>\n",
       "      <td>2020/2021</td>\n",
       "      <td>93.0</td>\n",
       "      <td>Conseil scolaire francophone</td>\n",
       "      <td>GRAD_5_YEAR SUB_MODEL</td>\n",
       "      <td>STATIC MODEL</td>\n",
       "      <td>193</td>\n",
       "      <td>165</td>\n",
       "    </tr>\n",
       "    <tr>\n",
       "      <th>55594</th>\n",
       "      <td>2020/2021</td>\n",
       "      <td>93.0</td>\n",
       "      <td>Conseil scolaire francophone</td>\n",
       "      <td>GRAD_5_YEAR SUB_MODEL</td>\n",
       "      <td>STATIC MODEL</td>\n",
       "      <td>45</td>\n",
       "      <td>41</td>\n",
       "    </tr>\n",
       "    <tr>\n",
       "      <th>55595</th>\n",
       "      <td>2020/2021</td>\n",
       "      <td>93.0</td>\n",
       "      <td>Conseil scolaire francophone</td>\n",
       "      <td>GRAD_5_YEAR SUB_MODEL</td>\n",
       "      <td>STATIC MODEL</td>\n",
       "      <td>172</td>\n",
       "      <td>144</td>\n",
       "    </tr>\n",
       "  </tbody>\n",
       "</table>\n",
       "<p>47217 rows × 7 columns</p>\n",
       "</div>"
      ],
      "text/plain": [
       "            Year  District_Number                 District_Name  \\\n",
       "15     1997/1998              5.0            Southeast Kootenay   \n",
       "20     1997/1998              6.0                Rocky Mountain   \n",
       "25     1997/1998              8.0                 Kootenay Lake   \n",
       "26     1997/1998              8.0                 Kootenay Lake   \n",
       "27     1997/1998              8.0                 Kootenay Lake   \n",
       "...          ...              ...                           ...   \n",
       "55591  2020/2021             93.0  Conseil scolaire francophone   \n",
       "55592  2020/2021             93.0  Conseil scolaire francophone   \n",
       "55593  2020/2021             93.0  Conseil scolaire francophone   \n",
       "55594  2020/2021             93.0  Conseil scolaire francophone   \n",
       "55595  2020/2021             93.0  Conseil scolaire francophone   \n",
       "\n",
       "            Completion_Rate_Model Learning_Model Cohort_Number Success_Rate  \n",
       "15     GRAD_7_YEAR EXTENDED_MODEL  DYNAMIC MODEL           670          465  \n",
       "20     GRAD_7_YEAR EXTENDED_MODEL  DYNAMIC MODEL           369          239  \n",
       "25     GRAD_7_YEAR EXTENDED_MODEL  DYNAMIC MODEL           546          382  \n",
       "26     GRAD_7_YEAR EXTENDED_MODEL  DYNAMIC MODEL            27           10  \n",
       "27     GRAD_7_YEAR EXTENDED_MODEL  DYNAMIC MODEL           519          372  \n",
       "...                           ...            ...           ...          ...  \n",
       "55591       GRAD_5_YEAR SUB_MODEL   STATIC MODEL           217          185  \n",
       "55592       GRAD_5_YEAR SUB_MODEL   STATIC MODEL            24           20  \n",
       "55593       GRAD_5_YEAR SUB_MODEL   STATIC MODEL           193          165  \n",
       "55594       GRAD_5_YEAR SUB_MODEL   STATIC MODEL            45           41  \n",
       "55595       GRAD_5_YEAR SUB_MODEL   STATIC MODEL           172          144  \n",
       "\n",
       "[47217 rows x 7 columns]"
      ]
     },
     "execution_count": 70,
     "metadata": {},
     "output_type": "execute_result"
    }
   ],
   "source": [
    "df = df.rename(columns = {\"YEAR_6_OF_COHORT\" : \"Year\"}) \n",
    "df = df.rename(columns = {\"DISTRICT_NUMBER\" : \"District_Number\"})\n",
    "df = df.rename(columns = {\"DISTRICT_NAME\" : \"District_Name\"})\n",
    "df = df.rename(columns = {\"COMPLETION_RATE_MODEL\" : \"Completion_Rate_Model\"})\n",
    "df = df.rename(columns = {\"MODEL_TYPE\" : \"Learning_Model\"}) \n",
    "df = df.rename(columns = {\"MODEL_TYPE\" : \"Learning_Model\"}) \n",
    "df = df.rename(columns = {\"COHORT_COUNT\" : \"Cohort_Number\"})\n",
    "df = df.rename(columns = {\"SUCCESS_COUNT\" : \"Success_Rate\"})\n",
    "\n",
    "df"
   ]
  },
  {
   "cell_type": "markdown",
   "metadata": {},
   "source": [
    "# Task 3 - Method Chaining and Writing Methods in Python"
   ]
  },
  {
   "cell_type": "code",
   "execution_count": null,
   "metadata": {},
   "outputs": [],
   "source": []
  }
 ],
 "metadata": {
  "kernelspec": {
   "display_name": "Python 3 (ipykernel)",
   "language": "python",
   "name": "python3"
  },
  "language_info": {
   "codemirror_mode": {
    "name": "ipython",
    "version": 3
   },
   "file_extension": ".py",
   "mimetype": "text/x-python",
   "name": "python",
   "nbconvert_exporter": "python",
   "pygments_lexer": "ipython3",
   "version": "3.9.12"
  }
 },
 "nbformat": 4,
 "nbformat_minor": 4
}
