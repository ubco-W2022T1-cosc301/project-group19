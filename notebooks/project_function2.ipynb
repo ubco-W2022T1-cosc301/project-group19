{
 "cells": [
  {
   "cell_type": "code",
   "execution_count": 25,
   "id": "7ea00ee1-0b90-408d-9921-39061476223d",
   "metadata": {},
   "outputs": [],
   "source": [
    "import pandas as pd\n",
    "\n",
    "def load_and_process(file):\n",
    "    df1 = pd.read_csv(file)\n",
    "    \n",
    "#Drop unneeded columns\n",
    "    df1 = (df.copy().drop(\"PUBLIC_OR_INDEPENDENT\", axis = 1)\n",
    "        .drop(\"DISTRICT_NUMBER\", axis = 1)\n",
    "        .drop(\"FACILITY_TYPE\", axis = 1)\n",
    "        .drop(\"MODEL_TYPE\", axis = 1)\n",
    "        .drop(\"COHORT_COUNT\", axis = 1)\n",
    "        .drop(\"SUCCESS_COUNT\", axis = 1)\n",
    "        .drop(\"ESTIMATED_OUTMIGRANTS\", axis = 1)\n",
    "        .drop(\"DATA_LEVEL\", axis = 1)\n",
    "        .drop(\"SUB_POPULATION\", axis = 1)\n",
    "        .drop(\"COMPLETION_RATE_MODEL\", axis = 1)\n",
    "    )\n",
    "    df2 = (\n",
    "        df1\n",
    "#Rename columns\n",
    "        .rename(columns = {\"DISTRICT_NAME\" : \"School District\"})\n",
    "        .rename(columns =  {\"YEAR_6_OF_COHORT\" : \"Year\"})\n",
    "        .rename(columns =  {\"ESTIMATED_COMPLETION_RATE\" : \"Estimated Completion Rate\"})\n",
    " \n",
    "#Sort values    \n",
    "        .sort_values(by=['DISTRICT_NAME'], ascending=True)\n",
    "           \n",
    "    )\n",
    "#Delete unneeded values\n",
    "    df2 = df2[df2['DATA_LEVEL'].str.contains('DISTRICT LEVEL')==True]\n",
    "    df2 = df2[df2['SUB_POPULATION'].str.contains('ALL STUDENTS')==True]\n",
    "    df2 = df2[df2['DISTRICT_NAME'].str.contains('NaN')==False]\n",
    "    df2 = df2[df2['COMPLETION_RATE_MODEL'].str.contains('SIX YEAR DOGWOOD COMPLETION RATE')==True]\n",
    "    df2 = df2[df2['ESTIMATED_COMPLETION_RATE'].str.contains('Msk')==False]\n",
    "\n",
    "#Shorten year column   \n",
    "    df2 = df2[\"Year\"].str.slice(0,-5) \n",
    "\n",
    "#Change year column to int\n",
    "    df2 = df2[\"Year\"].astype(int)         \n",
    "\n",
    "    return df2 "
   ]
  },
  {
   "cell_type": "code",
   "execution_count": null,
   "id": "5b64522c-62b7-42aa-84ae-bc503e080f50",
   "metadata": {},
   "outputs": [],
   "source": [
    "popData = pd.read_csv(\"../data/raw/Population.csv\")\n",
    "\n",
    "popData = popData.drop(\"Region\", axis = 1)\n",
    "popData = popData.drop(\"Gender\", axis = 1)\n",
    "popData = popData.rename(columns = {\"Total\" : \"Population\"})\n",
    "popData = popData.dropna(axis=0)"
   ]
  }
 ],
 "metadata": {
  "kernelspec": {
   "display_name": "Python 3",
   "language": "python",
   "name": "python3"
  },
  "language_info": {
   "codemirror_mode": {
    "name": "ipython",
    "version": 3
   },
   "file_extension": ".py",
   "mimetype": "text/x-python",
   "name": "python",
   "nbconvert_exporter": "python",
   "pygments_lexer": "ipython3",
   "version": "3.9.12"
  }
 },
 "nbformat": 4,
 "nbformat_minor": 5
}
